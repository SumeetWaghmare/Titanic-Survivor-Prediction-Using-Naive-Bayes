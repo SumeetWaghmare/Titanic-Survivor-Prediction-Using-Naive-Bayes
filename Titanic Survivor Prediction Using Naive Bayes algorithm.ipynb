{
 "cells": [
  {
   "cell_type": "markdown",
   "id": "d9649876-aa00-4110-9069-b845f7905476",
   "metadata": {},
   "source": [
    "<h1>Titanic Survivor Prediction Using Naive Bayes algorithm</h1>"
   ]
  },
  {
   "cell_type": "code",
   "execution_count": 1,
   "id": "d3d61312-6133-4fd0-8b2e-a9733df633f2",
   "metadata": {},
   "outputs": [],
   "source": [
    "#Importing libraries\n",
    "import pandas as pd\n",
    "import numpy as np\n",
    "\n",
    "#loading the Dataset\n",
    "df = pd.read_csv('Titanic Dataset.csv')"
   ]
  },
  {
   "cell_type": "code",
   "execution_count": 2,
   "id": "bf51cd98-f018-48a6-a7e0-1e978c9d4f8e",
   "metadata": {},
   "outputs": [
    {
     "name": "stdout",
     "output_type": "stream",
     "text": [
      "Dataset Shape\n",
      " (418, 5)\n",
      "\n",
      "   PassengerId     Sex   Age     Fare  Survived\n",
      "0          892    male  34.5   7.8292         0\n",
      "1          893  female  47.0   7.0000         1\n",
      "2          894    male  62.0   9.6875         0\n",
      "3          895    male  27.0   8.6625         0\n",
      "4          896  female  22.0  12.2875         1\n"
     ]
    }
   ],
   "source": [
    "#Summarize the Dataset\n",
    "print(\"Dataset Shape\\n\", df.shape)\n",
    "print()\n",
    "print(df.head())"
   ]
  },
  {
   "cell_type": "code",
   "execution_count": 3,
   "id": "ce01319d-5b6f-40cc-8b02-9e45f72b5ede",
   "metadata": {},
   "outputs": [
    {
     "name": "stdout",
     "output_type": "stream",
     "text": [
      "Converted female to 0 & male to 1\n",
      "\n",
      "    PassengerId  Sex   Age     Fare  Survived\n",
      "0          892    1  34.5   7.8292         0\n",
      "1          893    0  47.0   7.0000         1\n",
      "2          894    1  62.0   9.6875         0\n",
      "3          895    1  27.0   8.6625         0\n",
      "4          896    0  22.0  12.2875         1\n"
     ]
    }
   ],
   "source": [
    "#Mapping Sex Data to Binary Value (Male = 0 & Female = 1)\n",
    "\n",
    "new_sex_set = df['Sex'] #we taking income column as a \"SET\", used to create a set of unique values.\n",
    "df['Sex'] = df['Sex'].map({'female' : 0, 'male' : 1}).astype(int)\n",
    "\n",
    "print(\"Converted female to 0 & male to 1\\n\\n\", df.head())"
   ]
  },
  {
   "cell_type": "code",
   "execution_count": 4,
   "id": "b86272cf-9058-4167-9a52-8e078e417fec",
   "metadata": {},
   "outputs": [
    {
     "name": "stdout",
     "output_type": "stream",
     "text": [
      "Input Variable\n",
      "      PassengerId  Sex   Age      Fare\n",
      "0            892    1  34.5    7.8292\n",
      "1            893    0  47.0    7.0000\n",
      "2            894    1  62.0    9.6875\n",
      "3            895    1  27.0    8.6625\n",
      "4            896    0  22.0   12.2875\n",
      "..           ...  ...   ...       ...\n",
      "413         1305    1   NaN    8.0500\n",
      "414         1306    0  39.0  108.9000\n",
      "415         1307    1  38.5    7.2500\n",
      "416         1308    1   NaN    8.0500\n",
      "417         1309    1   NaN   22.3583\n",
      "\n",
      "[418 rows x 4 columns]\n"
     ]
    }
   ],
   "source": [
    "# Seggregating Dataset into X (Input Variable) & Y (Output Variable)\n",
    "\n",
    "x = df.drop('Survived', axis = 'columns')\n",
    "\n",
    "print(\"Input Variable\\n\" , x)"
   ]
  },
  {
   "cell_type": "code",
   "execution_count": 5,
   "id": "e512a205-3c36-406a-b20c-05e266a44ef2",
   "metadata": {},
   "outputs": [
    {
     "name": "stdout",
     "output_type": "stream",
     "text": [
      "Output Variable\n",
      " 0      0\n",
      "1      1\n",
      "2      0\n",
      "3      0\n",
      "4      1\n",
      "      ..\n",
      "413    0\n",
      "414    1\n",
      "415    0\n",
      "416    0\n",
      "417    0\n",
      "Name: Survived, Length: 418, dtype: int64\n"
     ]
    }
   ],
   "source": [
    "y = df.Survived\n",
    "\n",
    "print(\"Output Variable\\n\" , y)"
   ]
  },
  {
   "cell_type": "code",
   "execution_count": 6,
   "id": "f1d338d8-9fd5-4c89-890a-13989e36228b",
   "metadata": {},
   "outputs": [
    {
     "data": {
      "text/plain": [
       "Index(['Age', 'Fare'], dtype='object')"
      ]
     },
     "execution_count": 6,
     "metadata": {},
     "output_type": "execute_result"
    }
   ],
   "source": [
    "#Finding & Removing NA Values from our Features X\n",
    "\n",
    "    #Finding Nan Value\n",
    "x.columns[x.isna().any()]"
   ]
  },
  {
   "cell_type": "code",
   "execution_count": 7,
   "id": "6ccc8781-ae82-4f5f-96c3-ea20e40710a0",
   "metadata": {},
   "outputs": [],
   "source": [
    "    #Replacing the NaN values Mean Value of Age    \n",
    "x.Age = x.Age.fillna(x.Age.mean())\n",
    "x.Fare = x.Fare.fillna(x.Fare.mean())"
   ]
  },
  {
   "cell_type": "code",
   "execution_count": 8,
   "id": "ab2dd490-1a9c-4a15-b51e-932064170f5c",
   "metadata": {},
   "outputs": [
    {
     "data": {
      "text/plain": [
       "Index([], dtype='object')"
      ]
     },
     "execution_count": 8,
     "metadata": {},
     "output_type": "execute_result"
    }
   ],
   "source": [
    "    #Testing again to chakc Nan Values available or not\n",
    "x.columns[x.isna().any()]"
   ]
  },
  {
   "cell_type": "code",
   "execution_count": 9,
   "id": "332b9f5a-e91d-43dd-8167-1ad637f5f5b4",
   "metadata": {},
   "outputs": [],
   "source": [
    "# Splitting Dataset into Train & Test\n",
    "\n",
    "from sklearn.model_selection import train_test_split\n",
    "x_train, x_test, y_train, y_test =  train_test_split(x , y, test_size = 0.25, random_state = 0)"
   ]
  },
  {
   "cell_type": "code",
   "execution_count": 10,
   "id": "f248d051-87cd-45f4-983a-bdc0a42fc03f",
   "metadata": {},
   "outputs": [
    {
     "data": {
      "text/plain": [
       "GaussianNB()"
      ]
     },
     "execution_count": 10,
     "metadata": {},
     "output_type": "execute_result"
    }
   ],
   "source": [
    "# Training\n",
    "\n",
    "from sklearn.naive_bayes import GaussianNB\n",
    "model = GaussianNB()\n",
    "model.fit(x_train, y_train)"
   ]
  },
  {
   "cell_type": "code",
   "execution_count": 11,
   "id": "47a93b54-e0cb-48e7-a0c4-571544bb537d",
   "metadata": {},
   "outputs": [
    {
     "name": "stdout",
     "output_type": "stream",
     "text": [
      "Enter PassengerId Number: 892\n",
      "Enter Passenger's Sex 0-female 1-male: 1\n",
      "Enter Passenger's Age: 34.5\n",
      "Enter Passenger's Fare: 7.8292\n",
      "[0]\n",
      "Passenger might not be Survived\n"
     ]
    },
    {
     "name": "stderr",
     "output_type": "stream",
     "text": [
      "f:\\users\\sum!t_wx\\appdata\\local\\programs\\python\\python37\\lib\\site-packages\\sklearn\\base.py:451: UserWarning: X does not have valid feature names, but GaussianNB was fitted with feature names\n",
      "  \"X does not have valid feature names, but\"\n"
     ]
    }
   ],
   "source": [
    "#### Predicting, Whether Person Survived or Not\n",
    "\n",
    "PassengerId = int(input(\"Enter PassengerId Number: \"))\n",
    "Sex = int(input(\"Enter Passenger's Sex 0-female 1-male: \"))\n",
    "Age = float(input(\"Enter Passenger's Age: \"))\n",
    "Fare = float(input(\"Enter Passenger's Fare: \"))\n",
    "\n",
    "Passenger = [[PassengerId, Sex, Age, Fare]]\n",
    "result = model.predict(Passenger)\n",
    "print(result)\n",
    "\n",
    "if result == 1:\n",
    "    print(\"Passenger might be Survived\")\n",
    "else:\n",
    "    print(\"Passenger might not be Survived\")"
   ]
  },
  {
   "cell_type": "code",
   "execution_count": 12,
   "id": "c7a05036-34af-4f09-93a5-582c88de4e14",
   "metadata": {},
   "outputs": [
    {
     "name": "stdout",
     "output_type": "stream",
     "text": [
      "[[0 0]\n",
      " [0 0]\n",
      " [1 1]\n",
      " [0 0]\n",
      " [1 1]\n",
      " [0 0]\n",
      " [1 1]\n",
      " [0 0]\n",
      " [0 0]\n",
      " [0 0]\n",
      " [1 1]\n",
      " [1 1]\n",
      " [0 0]\n",
      " [0 0]\n",
      " [0 0]\n",
      " [0 0]\n",
      " [1 1]\n",
      " [0 0]\n",
      " [1 1]\n",
      " [1 1]\n",
      " [0 0]\n",
      " [1 1]\n",
      " [0 0]\n",
      " [0 0]\n",
      " [0 0]\n",
      " [0 0]\n",
      " [1 1]\n",
      " [0 0]\n",
      " [0 0]\n",
      " [0 0]\n",
      " [1 1]\n",
      " [1 1]\n",
      " [1 1]\n",
      " [1 1]\n",
      " [1 1]\n",
      " [0 0]\n",
      " [0 0]\n",
      " [1 1]\n",
      " [1 1]\n",
      " [1 1]\n",
      " [1 1]\n",
      " [0 0]\n",
      " [1 1]\n",
      " [1 1]\n",
      " [0 0]\n",
      " [1 1]\n",
      " [0 0]\n",
      " [0 0]\n",
      " [0 0]\n",
      " [0 0]\n",
      " [0 0]\n",
      " [1 1]\n",
      " [1 1]\n",
      " [0 0]\n",
      " [0 0]\n",
      " [1 1]\n",
      " [0 0]\n",
      " [1 1]\n",
      " [0 0]\n",
      " [0 0]\n",
      " [0 0]\n",
      " [1 1]\n",
      " [1 1]\n",
      " [0 0]\n",
      " [0 0]\n",
      " [1 1]\n",
      " [1 1]\n",
      " [1 1]\n",
      " [1 1]\n",
      " [0 0]\n",
      " [0 0]\n",
      " [1 1]\n",
      " [1 1]\n",
      " [1 1]\n",
      " [1 1]\n",
      " [0 0]\n",
      " [0 0]\n",
      " [1 1]\n",
      " [0 0]\n",
      " [1 1]\n",
      " [0 0]\n",
      " [1 1]\n",
      " [0 0]\n",
      " [0 0]\n",
      " [0 0]\n",
      " [0 0]\n",
      " [0 0]\n",
      " [1 1]\n",
      " [1 1]\n",
      " [0 0]\n",
      " [1 1]\n",
      " [1 1]\n",
      " [0 0]\n",
      " [0 0]\n",
      " [0 0]\n",
      " [1 1]\n",
      " [1 1]\n",
      " [1 1]\n",
      " [0 0]\n",
      " [0 0]\n",
      " [0 0]\n",
      " [0 0]\n",
      " [0 0]\n",
      " [1 1]\n",
      " [0 0]]\n"
     ]
    }
   ],
   "source": [
    "# Prediction for all Test Data\n",
    "\n",
    "y_pred = model.predict(x_test)\n",
    "print(np.column_stack((y_pred,y_test)))"
   ]
  },
  {
   "cell_type": "code",
   "execution_count": 13,
   "id": "267663bc-65da-4a6c-a2ec-0e4ba389234b",
   "metadata": {},
   "outputs": [
    {
     "name": "stdout",
     "output_type": "stream",
     "text": [
      "Accuracy Of The Model: 100.0%\n"
     ]
    }
   ],
   "source": [
    "# Accuracy Of our Model\n",
    "\n",
    "from sklearn.metrics import accuracy_score\n",
    "print(\"Accuracy Of The Model: {0}%\".format(accuracy_score(y_test, y_pred)*100 ) )"
   ]
  },
  {
   "cell_type": "code",
   "execution_count": null,
   "id": "f29f894e-72c0-4174-bdd1-6173e4f9b274",
   "metadata": {},
   "outputs": [],
   "source": []
  },
  {
   "cell_type": "code",
   "execution_count": null,
   "id": "689a961b-6b82-459c-9936-8b33f5db9683",
   "metadata": {},
   "outputs": [],
   "source": []
  },
  {
   "cell_type": "code",
   "execution_count": null,
   "id": "3cf8720a-c090-43e4-b3b2-8efe7ede5a1d",
   "metadata": {},
   "outputs": [],
   "source": []
  },
  {
   "cell_type": "code",
   "execution_count": null,
   "id": "94bbc227-d7cd-4b8c-87e2-17cf86daa205",
   "metadata": {},
   "outputs": [],
   "source": []
  }
 ],
 "metadata": {
  "kernelspec": {
   "display_name": "Python 3 (ipykernel)",
   "language": "python",
   "name": "python3"
  },
  "language_info": {
   "codemirror_mode": {
    "name": "ipython",
    "version": 3
   },
   "file_extension": ".py",
   "mimetype": "text/x-python",
   "name": "python",
   "nbconvert_exporter": "python",
   "pygments_lexer": "ipython3",
   "version": "3.7.8"
  }
 },
 "nbformat": 4,
 "nbformat_minor": 5
}
